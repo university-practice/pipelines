{
 "cells": [
  {
   "cell_type": "code",
   "execution_count": 123,
   "metadata": {},
   "outputs": [],
   "source": [
    "import pandas as pd"
   ]
  },
  {
   "cell_type": "code",
   "execution_count": 124,
   "metadata": {},
   "outputs": [],
   "source": [
    "data = pd.read_excel('../datasets/заявки2023.xlsx')"
   ]
  },
  {
   "cell_type": "code",
   "execution_count": 125,
   "metadata": {},
   "outputs": [],
   "source": [
    "metadata = {\n",
    "    'ости' : 'title',\n",
    "    'Текст материалов конференции' : 'text',\n",
    "    'Направление работы конференции' : 'theme'\n",
    "}"
   ]
  },
  {
   "cell_type": "code",
   "execution_count": 126,
   "metadata": {},
   "outputs": [],
   "source": [
    "data = data[list(metadata.keys())]"
   ]
  },
  {
   "cell_type": "code",
   "execution_count": 128,
   "metadata": {},
   "outputs": [
    {
     "data": {
      "text/html": [
       "<div>\n",
       "<style scoped>\n",
       "    .dataframe tbody tr th:only-of-type {\n",
       "        vertical-align: middle;\n",
       "    }\n",
       "\n",
       "    .dataframe tbody tr th {\n",
       "        vertical-align: top;\n",
       "    }\n",
       "\n",
       "    .dataframe thead th {\n",
       "        text-align: right;\n",
       "    }\n",
       "</style>\n",
       "<table border=\"1\" class=\"dataframe\">\n",
       "  <thead>\n",
       "    <tr style=\"text-align: right;\">\n",
       "      <th></th>\n",
       "      <th>title</th>\n",
       "      <th>text</th>\n",
       "      <th>theme</th>\n",
       "    </tr>\n",
       "  </thead>\n",
       "  <tbody>\n",
       "    <tr>\n",
       "      <th>0</th>\n",
       "      <td>ФАКТОР НАСЛЕДСТВЕННОЙ ТРОМБОФИЛИИ У ПАЦИЕНТОК ...</td>\n",
       "      <td>618.145-007.415:575_x000D_\\n_x000D_\\nФАКТОР НА...</td>\n",
       "      <td>Научные основы охраны здоровья матери, женщины...</td>\n",
       "    </tr>\n",
       "    <tr>\n",
       "      <th>1</th>\n",
       "      <td>ОПЫТ ИСПОЛЬЗОВАНИЯ МЕТОДИК ТЕРОПЕВТИЧЕСКОЙ РЕК...</td>\n",
       "      <td>NaN</td>\n",
       "      <td>Трудный диагноз в педиатрии: от практики к науке.</td>\n",
       "    </tr>\n",
       "    <tr>\n",
       "      <th>2</th>\n",
       "      <td>Сравнительная характеристика Нр-позитивного и ...</td>\n",
       "      <td>NaN</td>\n",
       "      <td>Возрастные особенности формирования здоровья в...</td>\n",
       "    </tr>\n",
       "    <tr>\n",
       "      <th>3</th>\n",
       "      <td>Современные подходы к лечению постравматически...</td>\n",
       "      <td>NaN</td>\n",
       "      <td>Трудный диагноз в клинике внутренних болезней.</td>\n",
       "    </tr>\n",
       "    <tr>\n",
       "      <th>4</th>\n",
       "      <td>Современные аспекты диагностики и лечения ВМД</td>\n",
       "      <td>NaN</td>\n",
       "      <td>Разработка новых методов профилактики, прогноз...</td>\n",
       "    </tr>\n",
       "    <tr>\n",
       "      <th>...</th>\n",
       "      <td>...</td>\n",
       "      <td>...</td>\n",
       "      <td>...</td>\n",
       "    </tr>\n",
       "    <tr>\n",
       "      <th>200</th>\n",
       "      <td>Факторы риска развития критических акушерских ...</td>\n",
       "      <td>Проанализированы истории родов пациенток с тяж...</td>\n",
       "      <td>Научные основы охраны здоровья матери, женщины...</td>\n",
       "    </tr>\n",
       "    <tr>\n",
       "      <th>201</th>\n",
       "      <td>РЕЗУЛЬТАТЫ ЛЕЧЕНИЯ БОЛЬНЫХ С РАССЕЯННЫМ СКЛЕРО...</td>\n",
       "      <td>РЕЗУЛЬТАТЫ ЛЕЧЕНИЯ БОЛЬНЫХ С РАССЕЯННЫМ СКЛЕРО...</td>\n",
       "      <td>Разработка новых методов профилактики, диагнос...</td>\n",
       "    </tr>\n",
       "    <tr>\n",
       "      <th>202</th>\n",
       "      <td>2</td>\n",
       "      <td>1</td>\n",
       "      <td>Актуальные вопросы микробиологии.</td>\n",
       "    </tr>\n",
       "    <tr>\n",
       "      <th>203</th>\n",
       "      <td>1</td>\n",
       "      <td>*\\t_x000D_\\nСогласие на обработку персональных...</td>\n",
       "      <td>Актуальные вопросы клинической психологии и пс...</td>\n",
       "    </tr>\n",
       "    <tr>\n",
       "      <th>204</th>\n",
       "      <td>1</td>\n",
       "      <td>1</td>\n",
       "      <td>Актуальные вопросы клинической психологии и пс...</td>\n",
       "    </tr>\n",
       "  </tbody>\n",
       "</table>\n",
       "<p>205 rows × 3 columns</p>\n",
       "</div>"
      ],
      "text/plain": [
       "                                                 title  \\\n",
       "0    ФАКТОР НАСЛЕДСТВЕННОЙ ТРОМБОФИЛИИ У ПАЦИЕНТОК ...   \n",
       "1    ОПЫТ ИСПОЛЬЗОВАНИЯ МЕТОДИК ТЕРОПЕВТИЧЕСКОЙ РЕК...   \n",
       "2    Сравнительная характеристика Нр-позитивного и ...   \n",
       "3    Современные подходы к лечению постравматически...   \n",
       "4        Современные аспекты диагностики и лечения ВМД   \n",
       "..                                                 ...   \n",
       "200  Факторы риска развития критических акушерских ...   \n",
       "201  РЕЗУЛЬТАТЫ ЛЕЧЕНИЯ БОЛЬНЫХ С РАССЕЯННЫМ СКЛЕРО...   \n",
       "202                                                  2   \n",
       "203                                                  1   \n",
       "204                                                  1   \n",
       "\n",
       "                                                  text  \\\n",
       "0    618.145-007.415:575_x000D_\\n_x000D_\\nФАКТОР НА...   \n",
       "1                                                  NaN   \n",
       "2                                                  NaN   \n",
       "3                                                  NaN   \n",
       "4                                                  NaN   \n",
       "..                                                 ...   \n",
       "200  Проанализированы истории родов пациенток с тяж...   \n",
       "201  РЕЗУЛЬТАТЫ ЛЕЧЕНИЯ БОЛЬНЫХ С РАССЕЯННЫМ СКЛЕРО...   \n",
       "202                                                  1   \n",
       "203  *\\t_x000D_\\nСогласие на обработку персональных...   \n",
       "204                                                  1   \n",
       "\n",
       "                                                 theme  \n",
       "0    Научные основы охраны здоровья матери, женщины...  \n",
       "1    Трудный диагноз в педиатрии: от практики к науке.  \n",
       "2    Возрастные особенности формирования здоровья в...  \n",
       "3       Трудный диагноз в клинике внутренних болезней.  \n",
       "4    Разработка новых методов профилактики, прогноз...  \n",
       "..                                                 ...  \n",
       "200  Научные основы охраны здоровья матери, женщины...  \n",
       "201  Разработка новых методов профилактики, диагнос...  \n",
       "202                  Актуальные вопросы микробиологии.  \n",
       "203  Актуальные вопросы клинической психологии и пс...  \n",
       "204  Актуальные вопросы клинической психологии и пс...  \n",
       "\n",
       "[205 rows x 3 columns]"
      ]
     },
     "execution_count": 128,
     "metadata": {},
     "output_type": "execute_result"
    }
   ],
   "source": [
    "data.rename(columns=metadata, inplace=True)\n",
    "data"
   ]
  },
  {
   "cell_type": "code",
   "execution_count": 130,
   "metadata": {},
   "outputs": [
    {
     "data": {
      "text/plain": [
       "title    object\n",
       "text     object\n",
       "theme    object\n",
       "dtype: object"
      ]
     },
     "execution_count": 130,
     "metadata": {},
     "output_type": "execute_result"
    }
   ],
   "source": [
    "data.dtypes"
   ]
  },
  {
   "cell_type": "code",
   "execution_count": null,
   "metadata": {},
   "outputs": [],
   "source": [
    "# удаляем наблюдения с пустой темой\n",
    "data = data[~data['theme'].isna()]"
   ]
  },
  {
   "cell_type": "code",
   "execution_count": 131,
   "metadata": {},
   "outputs": [
    {
     "ename": "TypeError",
     "evalue": "object of type 'float' has no len()",
     "output_type": "error",
     "traceback": [
      "\u001b[0;31m---------------------------------------------------------------------------\u001b[0m",
      "\u001b[0;31mTypeError\u001b[0m                                 Traceback (most recent call last)",
      "Cell \u001b[0;32mIn[131], line 3\u001b[0m\n\u001b[1;32m      1\u001b[0m \u001b[39m# заполняем пустые поля колонки text (или такие, где текст слишком короткий)\u001b[39;00m\n\u001b[1;32m      2\u001b[0m min_text_length \u001b[39m=\u001b[39m \u001b[39m10\u001b[39m \n\u001b[0;32m----> 3\u001b[0m data[data[\u001b[39m'\u001b[39;49m\u001b[39mtext\u001b[39;49m\u001b[39m'\u001b[39;49m]\u001b[39m.\u001b[39;49mmap(\u001b[39mlen\u001b[39;49m) \u001b[39m<\u001b[39m min_text_length] \u001b[39m=\u001b[39m \u001b[39m'\u001b[39m\u001b[39mТекст материалов конференции\u001b[39m\u001b[39m'\u001b[39m\n",
      "File \u001b[0;32m~/Projects/ml/.ml_venv/lib/python3.12/site-packages/pandas/core/series.py:4700\u001b[0m, in \u001b[0;36mSeries.map\u001b[0;34m(self, arg, na_action)\u001b[0m\n\u001b[1;32m   4620\u001b[0m \u001b[39mdef\u001b[39;00m \u001b[39mmap\u001b[39m(\n\u001b[1;32m   4621\u001b[0m     \u001b[39mself\u001b[39m,\n\u001b[1;32m   4622\u001b[0m     arg: Callable \u001b[39m|\u001b[39m Mapping \u001b[39m|\u001b[39m Series,\n\u001b[1;32m   4623\u001b[0m     na_action: Literal[\u001b[39m\"\u001b[39m\u001b[39mignore\u001b[39m\u001b[39m\"\u001b[39m] \u001b[39m|\u001b[39m \u001b[39mNone\u001b[39;00m \u001b[39m=\u001b[39m \u001b[39mNone\u001b[39;00m,\n\u001b[1;32m   4624\u001b[0m ) \u001b[39m-\u001b[39m\u001b[39m>\u001b[39m Series:\n\u001b[1;32m   4625\u001b[0m \u001b[39m    \u001b[39m\u001b[39m\"\"\"\u001b[39;00m\n\u001b[1;32m   4626\u001b[0m \u001b[39m    Map values of Series according to an input mapping or function.\u001b[39;00m\n\u001b[1;32m   4627\u001b[0m \n\u001b[0;32m   (...)\u001b[0m\n\u001b[1;32m   4698\u001b[0m \u001b[39m    dtype: object\u001b[39;00m\n\u001b[1;32m   4699\u001b[0m \u001b[39m    \"\"\"\u001b[39;00m\n\u001b[0;32m-> 4700\u001b[0m     new_values \u001b[39m=\u001b[39m \u001b[39mself\u001b[39;49m\u001b[39m.\u001b[39;49m_map_values(arg, na_action\u001b[39m=\u001b[39;49mna_action)\n\u001b[1;32m   4701\u001b[0m     \u001b[39mreturn\u001b[39;00m \u001b[39mself\u001b[39m\u001b[39m.\u001b[39m_constructor(new_values, index\u001b[39m=\u001b[39m\u001b[39mself\u001b[39m\u001b[39m.\u001b[39mindex, copy\u001b[39m=\u001b[39m\u001b[39mFalse\u001b[39;00m)\u001b[39m.\u001b[39m__finalize__(\n\u001b[1;32m   4702\u001b[0m         \u001b[39mself\u001b[39m, method\u001b[39m=\u001b[39m\u001b[39m\"\u001b[39m\u001b[39mmap\u001b[39m\u001b[39m\"\u001b[39m\n\u001b[1;32m   4703\u001b[0m     )\n",
      "File \u001b[0;32m~/Projects/ml/.ml_venv/lib/python3.12/site-packages/pandas/core/base.py:921\u001b[0m, in \u001b[0;36mIndexOpsMixin._map_values\u001b[0;34m(self, mapper, na_action, convert)\u001b[0m\n\u001b[1;32m    918\u001b[0m \u001b[39mif\u001b[39;00m \u001b[39misinstance\u001b[39m(arr, ExtensionArray):\n\u001b[1;32m    919\u001b[0m     \u001b[39mreturn\u001b[39;00m arr\u001b[39m.\u001b[39mmap(mapper, na_action\u001b[39m=\u001b[39mna_action)\n\u001b[0;32m--> 921\u001b[0m \u001b[39mreturn\u001b[39;00m algorithms\u001b[39m.\u001b[39;49mmap_array(arr, mapper, na_action\u001b[39m=\u001b[39;49mna_action, convert\u001b[39m=\u001b[39;49mconvert)\n",
      "File \u001b[0;32m~/Projects/ml/.ml_venv/lib/python3.12/site-packages/pandas/core/algorithms.py:1743\u001b[0m, in \u001b[0;36mmap_array\u001b[0;34m(arr, mapper, na_action, convert)\u001b[0m\n\u001b[1;32m   1741\u001b[0m values \u001b[39m=\u001b[39m arr\u001b[39m.\u001b[39mastype(\u001b[39mobject\u001b[39m, copy\u001b[39m=\u001b[39m\u001b[39mFalse\u001b[39;00m)\n\u001b[1;32m   1742\u001b[0m \u001b[39mif\u001b[39;00m na_action \u001b[39mis\u001b[39;00m \u001b[39mNone\u001b[39;00m:\n\u001b[0;32m-> 1743\u001b[0m     \u001b[39mreturn\u001b[39;00m lib\u001b[39m.\u001b[39;49mmap_infer(values, mapper, convert\u001b[39m=\u001b[39;49mconvert)\n\u001b[1;32m   1744\u001b[0m \u001b[39melse\u001b[39;00m:\n\u001b[1;32m   1745\u001b[0m     \u001b[39mreturn\u001b[39;00m lib\u001b[39m.\u001b[39mmap_infer_mask(\n\u001b[1;32m   1746\u001b[0m         values, mapper, mask\u001b[39m=\u001b[39misna(values)\u001b[39m.\u001b[39mview(np\u001b[39m.\u001b[39muint8), convert\u001b[39m=\u001b[39mconvert\n\u001b[1;32m   1747\u001b[0m     )\n",
      "File \u001b[0;32mlib.pyx:2972\u001b[0m, in \u001b[0;36mpandas._libs.lib.map_infer\u001b[0;34m()\u001b[0m\n",
      "\u001b[0;31mTypeError\u001b[0m: object of type 'float' has no len()"
     ]
    }
   ],
   "source": [
    "# заполняем пустые поля колонки text (или такие, где текст слишком короткий)\n",
    "min_text_length = 10 \n",
    "data[data['text'].map(len) < min_text_length] = 'Текст материалов конференции'"
   ]
  }
 ],
 "metadata": {
  "kernelspec": {
   "display_name": "ml_venv",
   "language": "python",
   "name": "ml_venv"
  },
  "language_info": {
   "codemirror_mode": {
    "name": "ipython",
    "version": 3
   },
   "file_extension": ".py",
   "mimetype": "text/x-python",
   "name": "python",
   "nbconvert_exporter": "python",
   "pygments_lexer": "ipython3",
   "version": "3.12.3"
  },
  "orig_nbformat": 4
 },
 "nbformat": 4,
 "nbformat_minor": 2
}
